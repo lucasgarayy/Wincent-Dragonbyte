{
 "cells": [
  {
   "cell_type": "code",
   "execution_count": null,
   "id": "bce725fe",
   "metadata": {},
   "outputs": [],
   "source": [
    "def sum_digits(n):\n",
    "    return sum(int(d) for d in str(n))\n",
    "\n",
    "def find_pair(d):\n",
    "    for a in range(1, 10000):\n",
    "        b = d + a\n",
    "        if sum_digits(a) == sum_digits(b):\n",
    "            return a, b\n",
    "    return \"NONE\""
   ]
  },
  {
   "cell_type": "code",
   "execution_count": null,
   "id": "f6b8fd12",
   "metadata": {},
   "outputs": [],
   "source": [
    "with open('N1.in', 'r') as infile, \\\n",
    "     open('N1.txt', 'w') as outfile:\n",
    "    next(infile)\n",
    "    for line in infile:\n",
    "        number = int(line.strip())\n",
    "        a,b = find_pair(number)\n",
    "        outfile.write(f'{a} ' + f'{b}' + '\\n')\n"
   ]
  },
  {
   "cell_type": "code",
   "execution_count": null,
   "id": "72f0a0ea",
   "metadata": {},
   "outputs": [],
   "source": []
  },
  {
   "cell_type": "code",
   "execution_count": 10,
   "id": "e11f1c1f",
   "metadata": {},
   "outputs": [
    {
     "name": "stdout",
     "output_type": "stream",
     "text": [
      "5 50\n"
     ]
    }
   ],
   "source": [
    "a,b = find_pair(45)\n",
    "print(a, b)"
   ]
  }
 ],
 "metadata": {
  "kernelspec": {
   "display_name": ".venv",
   "language": "python",
   "name": "python3"
  },
  "language_info": {
   "codemirror_mode": {
    "name": "ipython",
    "version": 3
   },
   "file_extension": ".py",
   "mimetype": "text/x-python",
   "name": "python",
   "nbconvert_exporter": "python",
   "pygments_lexer": "ipython3",
   "version": "3.13.0"
  }
 },
 "nbformat": 4,
 "nbformat_minor": 5
}
